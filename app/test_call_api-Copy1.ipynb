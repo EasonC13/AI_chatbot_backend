{
 "cells": [
  {
   "cell_type": "code",
   "execution_count": 22,
   "metadata": {},
   "outputs": [],
   "source": [
    "IDS = \"\"\"@NTNU_2_bot\n",
    "@NTNU_3_bot\n",
    "@NTNU_4_bot\n",
    "@NTNU_test_bot\n",
    "@NTNU_Demo_bot\"\"\""
   ]
  },
  {
   "cell_type": "code",
   "execution_count": 23,
   "metadata": {},
   "outputs": [
    {
     "name": "stdout",
     "output_type": "stream",
     "text": [
      "\"@NTNU_2_bot\",\"@NTNU_3_bot\",\"@NTNU_4_bot\",\"@NTNU_test_bot\",\"@NTNU_Demo_bot\","
     ]
    }
   ],
   "source": [
    "for i in IDS.split(\"\\n\"):\n",
    "    print(f'\"{i}\"', end = \",\")"
   ]
  },
  {
   "cell_type": "code",
   "execution_count": null,
   "metadata": {},
   "outputs": [],
   "source": []
  },
  {
   "cell_type": "code",
   "execution_count": 24,
   "metadata": {},
   "outputs": [],
   "source": [
    "tokens = \"\"\"1098956231:AAHMS5I0_Lz-S7jCqnGJMwCL3Z0mvxPPnr4\n",
    "1344940898:AAGvj1VPKqxyQvkrU8KYWExxNBLzhXD_Ol8\n",
    "1197344450:AAEPCOmY9G9-eRM5GnAwhzZBfbVYnJgflY4\n",
    "1101986164:AAE9jjtkScEgklpgeSjEK3SU0eJA5EaA0h4\n",
    "1143023463:AAHwJ3ingr2xFyfQwJRJXZKNH_HNwLh0OE4\"\"\""
   ]
  },
  {
   "cell_type": "code",
   "execution_count": 25,
   "metadata": {},
   "outputs": [],
   "source": [
    "tokens = tokens.split(\"\\n\")"
   ]
  },
  {
   "cell_type": "code",
   "execution_count": 26,
   "metadata": {},
   "outputs": [],
   "source": [
    "import requests"
   ]
  },
  {
   "cell_type": "code",
   "execution_count": 27,
   "metadata": {},
   "outputs": [],
   "source": [
    "import json"
   ]
  },
  {
   "cell_type": "code",
   "execution_count": 28,
   "metadata": {},
   "outputs": [
    {
     "name": "stdout",
     "output_type": "stream",
     "text": [
      "{'message': 'Success, Add Success.'}\n",
      "{'message': 'Success, Add Success.'}\n",
      "{'message': 'Success, Add Success.'}\n",
      "{'message': 'Success, Add Success.'}\n",
      "{'message': 'Success, Add Success.'}\n"
     ]
    }
   ],
   "source": [
    "for token in tokens:\n",
    "    header = {\n",
    "        \"accept\": \"application/json\",\n",
    "        'Content-Type': 'application/json'\n",
    "    }\n",
    "    data = {\n",
    "      \"creator\": \"pricean01@gmail.com\",\n",
    "      \"bot_token\": token,\n",
    "      \"is_public\": True\n",
    "    }\n",
    "    result = requests.post(\"https://chatbot.eason.tw/api/v1/add_bot\", headers = header, data = json.dumps(data))\n",
    "    print(result.json())"
   ]
  },
  {
   "cell_type": "code",
   "execution_count": null,
   "metadata": {},
   "outputs": [],
   "source": []
  },
  {
   "cell_type": "code",
   "execution_count": 1,
   "metadata": {},
   "outputs": [],
   "source": [
    "\n",
    "from fastapi import APIRouter\n",
    "router = APIRouter()\n",
    "from pkg.aio_telegram_utils import aio_get_profile_img_b64\n",
    "from pkg.telegram_utils import get_bot_data_by_token"
   ]
  },
  {
   "cell_type": "code",
   "execution_count": 6,
   "metadata": {},
   "outputs": [],
   "source": [
    "bot_data = get_bot_data_by_token(\"950339862:AAEojb4NXp-GhVwmms1F0QXn3KC6tEJs4AQ\")"
   ]
  },
  {
   "cell_type": "code",
   "execution_count": 7,
   "metadata": {},
   "outputs": [
    {
     "data": {
      "text/plain": [
       "{'id': 950339862,\n",
       " 'first_name': 'EasonC13 Demo',\n",
       " 'is_bot': True,\n",
       " 'username': 'EasonC13_Demo_bot',\n",
       " 'can_join_groups': True,\n",
       " 'can_read_all_group_messages': False,\n",
       " 'supports_inline_queries': False}"
      ]
     },
     "execution_count": 7,
     "metadata": {},
     "output_type": "execute_result"
    }
   ],
   "source": [
    "bot_data"
   ]
  },
  {
   "cell_type": "code",
   "execution_count": 4,
   "metadata": {},
   "outputs": [
    {
     "ename": "KeyError",
     "evalue": "'last_name'",
     "output_type": "error",
     "traceback": [
      "\u001b[0;31m---------------------------------------------------------------------------\u001b[0m",
      "\u001b[0;31mKeyError\u001b[0m                                  Traceback (most recent call last)",
      "\u001b[0;32m<ipython-input-4-c20953e4b787>\u001b[0m in \u001b[0;36m<module>\u001b[0;34m\u001b[0m\n\u001b[0;32m----> 1\u001b[0;31m \u001b[0mbot_data\u001b[0m\u001b[0;34m[\u001b[0m\u001b[0;34m\"first_name\"\u001b[0m\u001b[0;34m]\u001b[0m \u001b[0;34m+\u001b[0m \u001b[0mbot_data\u001b[0m\u001b[0;34m[\u001b[0m\u001b[0;34m\"last_name\"\u001b[0m\u001b[0;34m]\u001b[0m\u001b[0;34m\u001b[0m\u001b[0;34m\u001b[0m\u001b[0m\n\u001b[0m",
      "\u001b[0;31mKeyError\u001b[0m: 'last_name'"
     ]
    }
   ],
   "source": []
  },
  {
   "cell_type": "code",
   "execution_count": 5,
   "metadata": {},
   "outputs": [
    {
     "data": {
      "text/plain": [
       "{'id': 1098956231,\n",
       " 'first_name': '美羊羊',\n",
       " 'is_bot': True,\n",
       " 'username': 'NTNU_2_bot',\n",
       " 'can_join_groups': True,\n",
       " 'can_read_all_group_messages': False,\n",
       " 'supports_inline_queries': False}"
      ]
     },
     "execution_count": 5,
     "metadata": {},
     "output_type": "execute_result"
    }
   ],
   "source": [
    "for col in "
   ]
  }
 ],
 "metadata": {
  "kernelspec": {
   "display_name": "ser",
   "language": "python",
   "name": "ser"
  },
  "language_info": {
   "codemirror_mode": {
    "name": "ipython",
    "version": 3
   },
   "file_extension": ".py",
   "mimetype": "text/x-python",
   "name": "python",
   "nbconvert_exporter": "python",
   "pygments_lexer": "ipython3",
   "version": "3.8.8"
  }
 },
 "nbformat": 4,
 "nbformat_minor": 4
}
