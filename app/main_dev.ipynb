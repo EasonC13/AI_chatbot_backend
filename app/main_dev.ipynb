{
 "cells": [
  {
   "cell_type": "code",
   "execution_count": 1,
   "metadata": {
    "ExecuteTime": {
     "end_time": "2021-07-23T12:36:49.915792Z",
     "start_time": "2021-07-23T12:36:49.705209Z"
    }
   },
   "outputs": [],
   "source": [
    "from fastapi import FastAPI\n",
    "from starlette.exceptions import HTTPException\n",
    "from fastapi.middleware.cors import CORSMiddleware\n",
    "from starlette.status import HTTP_422_UNPROCESSABLE_ENTITY\n",
    "\n",
    "#from .api.api_v1.api import router as api_router\n",
    "from core.config import ALLOWED_HOSTS, PROJECT_NAME, PROJECT_VERSION, API_PORT\n",
    "from core.errors import http_422_error_handler, http_error_handler\n",
    "from db.mongodb_connect import close_mongo_connection, connect_to_mongo\n",
    "from db.mongodb import AsyncIOMotorClient, get_database\n",
    "import asyncio"
   ]
  },
  {
   "cell_type": "code",
   "execution_count": 2,
   "metadata": {
    "ExecuteTime": {
     "end_time": "2021-07-23T12:36:49.920628Z",
     "start_time": "2021-07-23T12:36:49.917239Z"
    }
   },
   "outputs": [],
   "source": [
    "app = FastAPI(title=PROJECT_NAME, version = PROJECT_VERSION)\n",
    "\n",
    "if not ALLOWED_HOSTS:\n",
    "    ALLOWED_HOSTS = [\"*\"]\n",
    "\n",
    "app.add_middleware(\n",
    "    CORSMiddleware,\n",
    "    allow_origins=ALLOWED_HOSTS,\n",
    "    allow_credentials=True,\n",
    "    allow_methods=[\"*\"],\n",
    "    allow_headers=[\"*\"],\n",
    ")\n",
    "\n",
    "\n",
    "app.add_event_handler(\"startup\", connect_to_mongo)\n",
    "app.add_event_handler(\"shutdown\", close_mongo_connection)\n",
    "\n",
    "\n",
    "app.add_exception_handler(HTTPException, http_error_handler)\n",
    "app.add_exception_handler(HTTP_422_UNPROCESSABLE_ENTITY, http_422_error_handler)"
   ]
  },
  {
   "cell_type": "code",
   "execution_count": null,
   "metadata": {},
   "outputs": [],
   "source": []
  },
  {
   "cell_type": "code",
   "execution_count": 3,
   "metadata": {
    "ExecuteTime": {
     "end_time": "2021-07-23T12:36:49.926478Z",
     "start_time": "2021-07-23T12:36:49.922745Z"
    }
   },
   "outputs": [],
   "source": [
    "\n",
    "from fastapi.openapi.docs import get_swagger_ui_html\n",
    "from fastapi.openapi.utils import get_openapi\n",
    "\n",
    "@app.get(\"/api/docs\", include_in_schema=False)\n",
    "async def get_documentation():\n",
    "    return get_swagger_ui_html(openapi_url=\"/api/openapi.json\", title=\"docs\")\n",
    "\n",
    "\n",
    "@app.get(\"/api/openapi.json\", include_in_schema=False)\n",
    "async def openapi():\n",
    "    return get_openapi(title = app.title, version=app.version, routes=app.routes)\n"
   ]
  },
  {
   "cell_type": "code",
   "execution_count": 4,
   "metadata": {
    "ExecuteTime": {
     "end_time": "2021-07-23T12:36:50.300079Z",
     "start_time": "2021-07-23T12:36:49.928151Z"
    }
   },
   "outputs": [],
   "source": [
    "from api.api import router as api_router\n",
    "app.include_router(api_router, prefix=\"/api\")"
   ]
  },
  {
   "cell_type": "code",
   "execution_count": null,
   "metadata": {},
   "outputs": [],
   "source": []
  },
  {
   "cell_type": "code",
   "execution_count": null,
   "metadata": {},
   "outputs": [],
   "source": []
  },
  {
   "cell_type": "code",
   "execution_count": null,
   "metadata": {},
   "outputs": [],
   "source": []
  },
  {
   "cell_type": "code",
   "execution_count": null,
   "metadata": {
    "ExecuteTime": {
     "start_time": "2021-07-23T12:35:40.802Z"
    },
    "scrolled": false
   },
   "outputs": [
    {
     "name": "stderr",
     "output_type": "stream",
     "text": [
      "INFO:     Started server process [8811]\n",
      "INFO:     Waiting for application startup.\n",
      "INFO:     Application startup complete.\n",
      "INFO:uvicorn.error:Application startup complete.\n",
      "INFO:     Uvicorn running on http://0.0.0.0:13526 (Press CTRL+C to quit)\n",
      "INFO:uvicorn.error:Uvicorn running on http://0.0.0.0:13526 (Press CTRL+C to quit)\n"
     ]
    },
    {
     "name": "stdout",
     "output_type": "stream",
     "text": [
      "Work: <ClientResponse(http://jupyter.home.eason.tw:13510/heartbeat) [404 Not Found]>\n",
      "<CIMultiDictProxy('Date': 'Fri, 23 Jul 2021 12:37:46 GMT', 'Server': 'uvicorn', 'Content-Length': '22', 'Content-Type': 'application/json')>\n",
      " http://jupyter.home.eason.tw:13510/generate-text/\n",
      "Work: <ClientResponse(http://web.glis.eason.tw:13510/heartbeat) [404 Not Found]>\n",
      "<CIMultiDictProxy('Date': 'Fri, 23 Jul 2021 12:38:05 GMT', 'Server': 'uvicorn', 'Content-Length': '22', 'Content-Type': 'application/json')>\n",
      " http://web.glis.eason.tw:13510/generate-text/\n",
      "[{'candidate': '我覺得你的這種性格比較適合你,適合你的', 'coherence': 0.5}]\n",
      "INFO:     111.241.119.187:0 - \"POST /api/webchat/generate_response HTTP/1.0\" 200 OK\n",
      "Work: <ClientResponse(http://ai.glis.eason.tw:13510/heartbeat) [404 Not Found]>\n",
      "<CIMultiDictProxy('Date': 'Fri, 23 Jul 2021 12:36:43 GMT', 'Server': 'uvicorn', 'Content-Length': '22', 'Content-Type': 'application/json')>\n",
      " http://ai.glis.eason.tw:13510/generate-text/\n",
      "Work: <ClientResponse(http://ai.glis.eason.tw:13511/heartbeat) [404 Not Found]>\n",
      "<CIMultiDictProxy('Date': 'Fri, 23 Jul 2021 12:36:43 GMT', 'Server': 'uvicorn', 'Content-Length': '22', 'Content-Type': 'application/json')>\n",
      " http://ai.glis.eason.tw:13511/generate-text/\n",
      "Work: <ClientResponse(http://ai.glis.eason.tw:13511/heartbeat) [404 Not Found]>\n",
      "<CIMultiDictProxy('Date': 'Fri, 23 Jul 2021 12:36:43 GMT', 'Server': 'uvicorn', 'Content-Length': '22', 'Content-Type': 'application/json')>\n",
      " http://ai.glis.eason.tw:13511/generate-text/\n",
      "[{'candidate': '好吃不好吃不好吃', 'coherence': 0.5}]\n",
      "INFO:     111.241.119.187:0 - \"POST /api/webchat/generate_response HTTP/1.0\" 200 OK\n",
      "[{'candidate': '我覺得還可以啊,你去買彩票吧', 'coherence': 0.5}]\n",
      "INFO:     111.241.119.187:0 - \"POST /api/webchat/generate_response HTTP/1.0\" 200 OK\n",
      "[{'candidate': '我喜歡的', 'coherence': 0.5}]\n",
      "INFO:     111.241.119.187:0 - \"POST /api/webchat/generate_response HTTP/1.0\" 200 OK\n",
      "[{'candidate': '有沒有那麼好的推薦啊~我最近都想去吃呢~~😘', 'coherence': 0.5}]\n",
      "INFO:     111.241.119.187:0 - \"POST /api/webchat/generate_response HTTP/1.0\" 200 OK\n",
      "Not Working:  http://ai.glis.eason.tw:13510\n",
      "Not Working:  http://ai.glis.eason.tw:13510\n",
      "Not Working:  http://ai.glis.eason.tw:13511\n",
      "Not Working:  http://ai.glis.eason.tw:13511\n",
      "Not Working:  http://ai.glis.eason.tw:13510\n",
      "Work: <ClientResponse(http://ai.glis.eason.tw:13511/heartbeat) [404 Not Found]>\n",
      "<CIMultiDictProxy('Date': 'Fri, 23 Jul 2021 12:37:03 GMT', 'Server': 'uvicorn', 'Content-Length': '22', 'Content-Type': 'application/json')>\n",
      " http://ai.glis.eason.tw:13511/generate-text/\n",
      "Work: <ClientResponse(http://ai.glis.eason.tw:13511/heartbeat) [404 Not Found]>\n",
      "<CIMultiDictProxy('Date': 'Fri, 23 Jul 2021 12:37:02 GMT', 'Server': 'uvicorn', 'Content-Length': '22', 'Content-Type': 'application/json')>\n",
      " http://ai.glis.eason.tw:13511/generate-text/\n",
      "Work: <ClientResponse(http://ai.glis.eason.tw:13511/heartbeat) [404 Not Found]>\n",
      "<CIMultiDictProxy('Date': 'Fri, 23 Jul 2021 12:37:02 GMT', 'Server': 'uvicorn', 'Content-Length': '22', 'Content-Type': 'application/json')>\n",
      " http://ai.glis.eason.tw:13511/generate-text/\n",
      "Work: <ClientResponse(http://ai.glis.eason.tw:13511/heartbeat) [404 Not Found]>\n",
      "<CIMultiDictProxy('Date': 'Fri, 23 Jul 2021 12:37:03 GMT', 'Server': 'uvicorn', 'Content-Length': '22', 'Content-Type': 'application/json')>\n",
      " http://ai.glis.eason.tw:13511/generate-text/\n",
      "Work: <ClientResponse(http://ai.glis.eason.tw:13511/heartbeat) [404 Not Found]>\n",
      "<CIMultiDictProxy('Date': 'Fri, 23 Jul 2021 12:37:02 GMT', 'Server': 'uvicorn', 'Content-Length': '22', 'Content-Type': 'application/json')>\n",
      " http://ai.glis.eason.tw:13511/generate-text/\n",
      "[{'candidate': '我喜歡吃蛋撻', 'coherence': 0.5}]\n",
      "INFO:     111.241.119.187:0 - \"POST /api/webchat/generate_response HTTP/1.0\" 200 OK\n",
      "[{'candidate': '好看的', 'coherence': 0.5}]\n",
      "INFO:     111.241.119.187:0 - \"POST /api/webchat/generate_response HTTP/1.0\" 200 OK\n",
      "[{'candidate': '👍', 'coherence': 0.5}]\n",
      "INFO:     111.241.119.187:0 - \"POST /api/webchat/generate_response HTTP/1.0\" 200 OK\n",
      "[{'candidate': '我也要', 'coherence': 0.5}]\n",
      "INFO:     111.241.119.187:0 - \"POST /api/webchat/generate_response HTTP/1.0\" 200 OK\n",
      "[{'candidate': '好的。我會好好學習的', 'coherence': 0.5}]\n",
      "INFO:     111.241.119.187:0 - \"POST /api/webchat/generate_response HTTP/1.0\" 200 OK\n",
      "INFO:     172.17.0.3:0 - \"GET /api/webchat/generate_response HTTP/1.0\" 200 OK\n",
      "INFO:     172.17.0.3:0 - \"GET /api/webchat/generate_response HTTP/1.0\" 200 OK\n",
      "Work: <ClientResponse(http://web.glis.eason.tw:13510/heartbeat) [404 Not Found]>\n",
      "<CIMultiDictProxy('Date': 'Fri, 23 Jul 2021 12:39:00 GMT', 'Server': 'uvicorn', 'Content-Length': '22', 'Content-Type': 'application/json')>\n",
      " http://web.glis.eason.tw:13510/generate-text/\n",
      "Work: <ClientResponse(http://jupyter.home.eason.tw:13510/heartbeat) [404 Not Found]>\n",
      "<CIMultiDictProxy('Date': 'Fri, 23 Jul 2021 12:38:41 GMT', 'Server': 'uvicorn', 'Content-Length': '22', 'Content-Type': 'application/json')>\n",
      " http://jupyter.home.eason.tw:13510/generate-text/\n",
      "[{'candidate': '好想吃好想吃!!', 'coherence': 0.5}]\n",
      "INFO:     111.241.119.187:0 - \"POST /api/webchat/generate_response HTTP/1.0\" 200 OK\n",
      "Work: <ClientResponse(http://ai.glis.eason.tw:13510/heartbeat) [404 Not Found]>\n",
      "<CIMultiDictProxy('Date': 'Fri, 23 Jul 2021 12:37:37 GMT', 'Server': 'uvicorn', 'Content-Length': '22', 'Content-Type': 'application/json')>\n",
      " http://ai.glis.eason.tw:13510/generate-text/\n",
      "Work: <ClientResponse(http://ai.glis.eason.tw:13510/heartbeat) [404 Not Found]>\n",
      "<CIMultiDictProxy('Date': 'Fri, 23 Jul 2021 12:37:37 GMT', 'Server': 'uvicorn', 'Content-Length': '22', 'Content-Type': 'application/json')>\n",
      " http://ai.glis.eason.tw:13510/generate-text/\n",
      "[{'candidate': '我喜歡你的髮型', 'coherence': 0.5}]\n",
      "INFO:     111.241.119.187:0 - \"POST /api/webchat/generate_response HTTP/1.0\" 200 OK\n",
      "[{'candidate': '我也覺得是,你也不看看', 'coherence': 0.5}]\n",
      "INFO:     111.241.119.187:0 - \"POST /api/webchat/generate_response HTTP/1.0\" 200 OK\n",
      "[{'candidate': '好吧,我承認,是我,我也是', 'coherence': 0.5}]\n",
      "INFO:     111.241.119.187:0 - \"POST /api/webchat/generate_response HTTP/1.0\" 200 OK\n",
      "Not Working:  http://ai.glis.eason.tw:13511\n",
      "Work: <ClientResponse(http://web.glis.eason.tw:13510/heartbeat) [404 Not Found]>\n",
      "<CIMultiDictProxy('Date': 'Fri, 23 Jul 2021 12:39:00 GMT', 'Server': 'uvicorn', 'Content-Length': '22', 'Content-Type': 'application/json')>\n",
      " http://web.glis.eason.tw:13510/generate-text/\n",
      "[{'candidate': '你這一天天的。。。', 'coherence': 0.5}]\n",
      "INFO:     111.241.119.187:0 - \"POST /api/webchat/generate_response HTTP/1.0\" 200 OK\n",
      "Work: <ClientResponse(http://web.glis.eason.tw:13510/heartbeat) [404 Not Found]>\n",
      "<CIMultiDictProxy('Date': 'Fri, 23 Jul 2021 12:39:14 GMT', 'Server': 'uvicorn', 'Content-Length': '22', 'Content-Type': 'application/json')>\n",
      " http://web.glis.eason.tw:13510/generate-text/\n",
      "Work: <ClientResponse(http://jupyter.home.eason.tw:13510/heartbeat) [404 Not Found]>\n",
      "<CIMultiDictProxy('Date': 'Fri, 23 Jul 2021 12:38:54 GMT', 'Server': 'uvicorn', 'Content-Length': '22', 'Content-Type': 'application/json')>\n",
      " http://jupyter.home.eason.tw:13510/generate-text/\n",
      "Work: <ClientResponse(http://jupyter.home.eason.tw:13510/heartbeat) [404 Not Found]>\n",
      "<CIMultiDictProxy('Date': 'Fri, 23 Jul 2021 12:38:54 GMT', 'Server': 'uvicorn', 'Content-Length': '22', 'Content-Type': 'application/json')>\n",
      " http://jupyter.home.eason.tw:13510/generate-text/\n",
      "Work: <ClientResponse(http://jupyter.home.eason.tw:13510/heartbeat) [404 Not Found]>\n",
      "<CIMultiDictProxy('Date': 'Fri, 23 Jul 2021 12:38:53 GMT', 'Server': 'uvicorn', 'Content-Length': '22', 'Content-Type': 'application/json')>\n",
      " http://jupyter.home.eason.tw:13510/generate-text/\n",
      "INFO:     111.241.119.187:0 - \"GET /api/webchat/get/avaliable_bot?user_email=star3067811@gmail.com HTTP/1.0\" 200 OK\n",
      "[{'candidate': '👍', 'coherence': 0.5}]\n",
      "INFO:     111.241.119.187:0 - \"POST /api/webchat/generate_response HTTP/1.0\" 200 OK\n",
      "[{'candidate': '我也想要,可是我們家小寶的名字很有特色,我還沒有拿到,希望有機會給你寄張cher的明信片', 'coherence': 0.5}]\n",
      "INFO:     111.241.119.187:0 - \"POST /api/webchat/generate_response HTTP/1.0\" 200 OK\n",
      "[{'candidate': '😊', 'coherence': 0.5}]\n",
      "INFO:     111.241.119.187:0 - \"POST /api/webchat/generate_response HTTP/1.0\" 200 OK\n",
      "[{'candidate': '不錯啊,很多人都喜歡😃', 'coherence': 0.5}]\n",
      "INFO:     111.241.119.187:0 - \"POST /api/webchat/generate_response HTTP/1.0\" 200 OK\n",
      "Not Working:  http://ai.glis.eason.tw:13510\n"
     ]
    },
    {
     "name": "stdout",
     "output_type": "stream",
     "text": [
      "Not Working:  http://ai.glis.eason.tw:13510\n",
      "Work: <ClientResponse(http://jupyter.home.eason.tw:13510/heartbeat) [404 Not Found]>\n",
      "<CIMultiDictProxy('Date': 'Fri, 23 Jul 2021 12:39:00 GMT', 'Server': 'uvicorn', 'Content-Length': '22', 'Content-Type': 'application/json')>\n",
      " http://jupyter.home.eason.tw:13510/generate-text/\n",
      "Work: <ClientResponse(http://jupyter.home.eason.tw:13510/heartbeat) [404 Not Found]>\n",
      "<CIMultiDictProxy('Date': 'Fri, 23 Jul 2021 12:38:59 GMT', 'Server': 'uvicorn', 'Content-Length': '22', 'Content-Type': 'application/json')>\n",
      " http://jupyter.home.eason.tw:13510/generate-text/\n",
      "Work: <ClientResponse(http://ai.glis.eason.tw:13510/heartbeat) [404 Not Found]>\n",
      "<CIMultiDictProxy('Date': 'Fri, 23 Jul 2021 12:37:56 GMT', 'Server': 'uvicorn', 'Content-Length': '22', 'Content-Type': 'application/json')>\n",
      " http://ai.glis.eason.tw:13510/generate-text/\n",
      "Work: <ClientResponse(http://ai.glis.eason.tw:13510/heartbeat) [404 Not Found]>\n",
      "<CIMultiDictProxy('Date': 'Fri, 23 Jul 2021 12:37:56 GMT', 'Server': 'uvicorn', 'Content-Length': '22', 'Content-Type': 'application/json')>\n",
      " http://ai.glis.eason.tw:13510/generate-text/\n",
      "Work: <ClientResponse(http://ai.glis.eason.tw:13511/heartbeat) [404 Not Found]>\n",
      "<CIMultiDictProxy('Date': 'Fri, 23 Jul 2021 12:37:56 GMT', 'Server': 'uvicorn', 'Content-Length': '22', 'Content-Type': 'application/json')>\n",
      " http://ai.glis.eason.tw:13511/generate-text/\n",
      "Work: <ClientResponse(http://ai.glis.eason.tw:13511/heartbeat) [404 Not Found]>\n",
      "<CIMultiDictProxy('Date': 'Fri, 23 Jul 2021 12:37:56 GMT', 'Server': 'uvicorn', 'Content-Length': '22', 'Content-Type': 'application/json')>\n",
      " http://ai.glis.eason.tw:13511/generate-text/\n",
      "[{'candidate': '好吃嗎', 'coherence': 0.5}]\n",
      "INFO:     111.241.119.187:0 - \"POST /api/webchat/generate_response HTTP/1.0\" 200 OK\n",
      "[{'candidate': '好看', 'coherence': 0.5}]\n",
      "INFO:     111.241.119.187:0 - \"POST /api/webchat/generate_response HTTP/1.0\" 200 OK\n",
      "[{'candidate': '我也想說,你這頭像真美!', 'coherence': 0.5}]\n",
      "INFO:     111.241.119.187:0 - \"POST /api/webchat/generate_response HTTP/1.0\" 200 OK\n",
      "[{'candidate': '好吃嗎?', 'coherence': 0.5}]\n",
      "INFO:     111.241.119.187:0 - \"POST /api/webchat/generate_response HTTP/1.0\" 200 OK\n",
      "[{'candidate': '我喜歡這個', 'coherence': 0.5}]\n",
      "INFO:     111.241.119.187:0 - \"POST /api/webchat/generate_response HTTP/1.0\" 200 OK\n",
      "[{'candidate': '你要去哪裏啊親愛的!', 'coherence': 0.5}]\n",
      "INFO:     111.241.119.187:0 - \"POST /api/webchat/generate_response HTTP/1.0\" 200 OK\n",
      "Work: <ClientResponse(http://ai.glis.eason.tw:13511/heartbeat) [404 Not Found]>\n",
      "<CIMultiDictProxy('Date': 'Fri, 23 Jul 2021 12:37:56 GMT', 'Server': 'uvicorn', 'Content-Length': '22', 'Content-Type': 'application/json')>\n",
      " http://ai.glis.eason.tw:13511/generate-text/\n",
      "Work: <ClientResponse(http://web.glis.eason.tw:13510/heartbeat) [404 Not Found]>\n",
      "<CIMultiDictProxy('Date': 'Fri, 23 Jul 2021 12:39:25 GMT', 'Server': 'uvicorn', 'Content-Length': '22', 'Content-Type': 'application/json')>\n",
      " http://web.glis.eason.tw:13510/generate-text/\n",
      "Work: <ClientResponse(http://web.glis.eason.tw:13510/heartbeat) [404 Not Found]>\n",
      "<CIMultiDictProxy('Date': 'Fri, 23 Jul 2021 12:39:25 GMT', 'Server': 'uvicorn', 'Content-Length': '22', 'Content-Type': 'application/json')>\n",
      " http://web.glis.eason.tw:13510/generate-text/\n",
      "Work: <ClientResponse(http://web.glis.eason.tw:13510/heartbeat) [404 Not Found]>\n",
      "<CIMultiDictProxy('Date': 'Fri, 23 Jul 2021 12:39:25 GMT', 'Server': 'uvicorn', 'Content-Length': '22', 'Content-Type': 'application/json')>\n",
      " http://web.glis.eason.tw:13510/generate-text/\n",
      "Work: <ClientResponse(http://web.glis.eason.tw:13510/heartbeat) [404 Not Found]>\n",
      "<CIMultiDictProxy('Date': 'Fri, 23 Jul 2021 12:39:25 GMT', 'Server': 'uvicorn', 'Content-Length': '22', 'Content-Type': 'application/json')>\n",
      " http://web.glis.eason.tw:13510/generate-text/\n",
      "[{'candidate': '好的,你在哪裏', 'coherence': 0.5}]\n",
      "INFO:     111.241.119.187:0 - \"POST /api/webchat/generate_response HTTP/1.0\" 200 OK\n",
      "[{'candidate': '我也想去', 'coherence': 0.5}]\n",
      "INFO:     111.241.119.187:0 - \"POST /api/webchat/generate_response HTTP/1.0\" 200 OK\n",
      "[{'candidate': '你要不要一起去?', 'coherence': 0.5}]\n",
      "INFO:     111.241.119.187:0 - \"POST /api/webchat/generate_response HTTP/1.0\" 200 OK\n",
      "[{'candidate': '好好好,去吧!', 'coherence': 0.5}]\n",
      "INFO:     111.241.119.187:0 - \"POST /api/webchat/generate_response HTTP/1.0\" 200 OK\n",
      "[{'candidate': '我喜歡那個男生', 'coherence': 0.5}]\n",
      "INFO:     111.241.119.187:0 - \"POST /api/webchat/generate_response HTTP/1.0\" 200 OK\n",
      "Work: <ClientResponse(http://web.glis.eason.tw:13510/heartbeat) [404 Not Found]>\n",
      "<CIMultiDictProxy('Date': 'Fri, 23 Jul 2021 12:39:25 GMT', 'Server': 'uvicorn', 'Content-Length': '22', 'Content-Type': 'application/json')>\n",
      " http://web.glis.eason.tw:13510/generate-text/\n",
      "Work: <ClientResponse(http://ai.glis.eason.tw:13511/heartbeat) [404 Not Found]>\n",
      "<CIMultiDictProxy('Date': 'Fri, 23 Jul 2021 12:37:56 GMT', 'Server': 'uvicorn', 'Content-Length': '22', 'Content-Type': 'application/json')>\n",
      " http://ai.glis.eason.tw:13511/generate-text/\n",
      "Work: <ClientResponse(http://web.glis.eason.tw:13510/heartbeat) [404 Not Found]>\n",
      "<CIMultiDictProxy('Date': 'Fri, 23 Jul 2021 12:39:25 GMT', 'Server': 'uvicorn', 'Content-Length': '22', 'Content-Type': 'application/json')>\n",
      " http://web.glis.eason.tw:13510/generate-text/\n",
      "Work: <ClientResponse(http://ai.glis.eason.tw:13511/heartbeat) [404 Not Found]>\n",
      "<CIMultiDictProxy('Date': 'Fri, 23 Jul 2021 12:38:03 GMT', 'Server': 'uvicorn', 'Content-Length': '22', 'Content-Type': 'application/json')>\n",
      " http://ai.glis.eason.tw:13511/generate-text/\n",
      "Work: <ClientResponse(http://jupyter.home.eason.tw:13510/heartbeat) [404 Not Found]>\n",
      "<CIMultiDictProxy('Date': 'Fri, 23 Jul 2021 12:39:07 GMT', 'Server': 'uvicorn', 'Content-Length': '22', 'Content-Type': 'application/json')>\n",
      " http://jupyter.home.eason.tw:13510/generate-text/\n",
      "[{'candidate': '是的,很好看。', 'coherence': 0.5}]\n",
      "INFO:     111.241.119.187:0 - \"POST /api/webchat/generate_response HTTP/1.0\" 200 OK\n",
      "[{'candidate': '你太聰明啦', 'coherence': 0.5}]\n",
      "INFO:     111.241.119.187:0 - \"POST /api/webchat/generate_response HTTP/1.0\" 200 OK\n",
      "[{'candidate': '是啊我也是這麼覺得的', 'coherence': 0.5}]\n",
      "INFO:     111.241.119.187:0 - \"POST /api/webchat/generate_response HTTP/1.0\" 200 OK\n",
      "[{'candidate': '是的!', 'coherence': 0.5}]\n",
      "INFO:     111.241.119.187:0 - \"POST /api/webchat/generate_response HTTP/1.0\" 200 OK\n",
      "[{'candidate': '是啊是啊，好多好多好多的美食哦。。。', 'coherence': 0.5}]\n",
      "INFO:     111.241.119.187:0 - \"POST /api/webchat/generate_response HTTP/1.0\" 200 OK\n"
     ]
    }
   ],
   "source": [
    "if __name__ == \"__main__\":\n",
    "    import nest_asyncio\n",
    "    nest_asyncio.apply()\n",
    "    import uvicorn\n",
    "    uvicorn.run(app, host=\"0.0.0.0\", port=API_PORT)"
   ]
  },
  {
   "cell_type": "code",
   "execution_count": null,
   "metadata": {},
   "outputs": [],
   "source": []
  },
  {
   "cell_type": "code",
   "execution_count": null,
   "metadata": {
    "ExecuteTime": {
     "start_time": "2021-07-23T12:35:40.805Z"
    }
   },
   "outputs": [],
   "source": [
    "print(\"讚美神\")"
   ]
  },
  {
   "cell_type": "code",
   "execution_count": null,
   "metadata": {},
   "outputs": [],
   "source": []
  },
  {
   "cell_type": "code",
   "execution_count": null,
   "metadata": {},
   "outputs": [],
   "source": []
  }
 ],
 "metadata": {
  "kernelspec": {
   "display_name": "ser",
   "language": "python",
   "name": "ser"
  },
  "language_info": {
   "codemirror_mode": {
    "name": "ipython",
    "version": 3
   },
   "file_extension": ".py",
   "mimetype": "text/x-python",
   "name": "python",
   "nbconvert_exporter": "python",
   "pygments_lexer": "ipython3",
   "version": "3.8.8"
  }
 },
 "nbformat": 4,
 "nbformat_minor": 4
}
