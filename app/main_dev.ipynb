{
 "cells": [
  {
   "cell_type": "code",
   "execution_count": 1,
   "metadata": {
    "ExecuteTime": {
     "end_time": "2021-07-11T00:36:23.551369Z",
     "start_time": "2021-07-11T00:36:23.339287Z"
    }
   },
   "outputs": [],
   "source": [
    "from fastapi import FastAPI\n",
    "from starlette.exceptions import HTTPException\n",
    "from fastapi.middleware.cors import CORSMiddleware\n",
    "from starlette.status import HTTP_422_UNPROCESSABLE_ENTITY\n",
    "\n",
    "#from .api.api_v1.api import router as api_router\n",
    "from core.config import ALLOWED_HOSTS, PROJECT_NAME, PROJECT_VERSION, API_PORT\n",
    "from core.errors import http_422_error_handler, http_error_handler\n",
    "from db.mongodb_connect import close_mongo_connection, connect_to_mongo\n",
    "from db.mongodb import AsyncIOMotorClient, get_database\n",
    "import asyncio"
   ]
  },
  {
   "cell_type": "code",
   "execution_count": 2,
   "metadata": {
    "ExecuteTime": {
     "end_time": "2021-07-11T00:36:23.556102Z",
     "start_time": "2021-07-11T00:36:23.552652Z"
    }
   },
   "outputs": [],
   "source": [
    "app = FastAPI(title=PROJECT_NAME, version = PROJECT_VERSION)\n",
    "\n",
    "if not ALLOWED_HOSTS:\n",
    "    ALLOWED_HOSTS = [\"*\"]\n",
    "\n",
    "app.add_middleware(\n",
    "    CORSMiddleware,\n",
    "    allow_origins=ALLOWED_HOSTS,\n",
    "    allow_credentials=True,\n",
    "    allow_methods=[\"*\"],\n",
    "    allow_headers=[\"*\"],\n",
    ")\n",
    "\n",
    "\n",
    "app.add_event_handler(\"startup\", connect_to_mongo)\n",
    "app.add_event_handler(\"shutdown\", close_mongo_connection)\n",
    "\n",
    "\n",
    "app.add_exception_handler(HTTPException, http_error_handler)\n",
    "app.add_exception_handler(HTTP_422_UNPROCESSABLE_ENTITY, http_422_error_handler)"
   ]
  },
  {
   "cell_type": "code",
   "execution_count": null,
   "metadata": {},
   "outputs": [],
   "source": []
  },
  {
   "cell_type": "code",
   "execution_count": 3,
   "metadata": {
    "ExecuteTime": {
     "end_time": "2021-07-11T00:36:23.561044Z",
     "start_time": "2021-07-11T00:36:23.557650Z"
    }
   },
   "outputs": [],
   "source": [
    "\n",
    "from fastapi.openapi.docs import get_swagger_ui_html\n",
    "from fastapi.openapi.utils import get_openapi\n",
    "\n",
    "@app.get(\"/api/docs\", include_in_schema=False)\n",
    "async def get_documentation():\n",
    "    return get_swagger_ui_html(openapi_url=\"/api/openapi.json\", title=\"docs\")\n",
    "\n",
    "\n",
    "@app.get(\"/api/openapi.json\", include_in_schema=False)\n",
    "async def openapi():\n",
    "    return get_openapi(title = app.title, version=app.version, routes=app.routes)\n"
   ]
  },
  {
   "cell_type": "code",
   "execution_count": 4,
   "metadata": {
    "ExecuteTime": {
     "end_time": "2021-07-11T00:36:23.970879Z",
     "start_time": "2021-07-11T00:36:23.562277Z"
    }
   },
   "outputs": [],
   "source": [
    "from api.api import router as api_router\n",
    "app.include_router(api_router, prefix=\"/api\")"
   ]
  },
  {
   "cell_type": "code",
   "execution_count": null,
   "metadata": {},
   "outputs": [],
   "source": []
  },
  {
   "cell_type": "code",
   "execution_count": null,
   "metadata": {},
   "outputs": [],
   "source": []
  },
  {
   "cell_type": "code",
   "execution_count": null,
   "metadata": {},
   "outputs": [],
   "source": []
  },
  {
   "cell_type": "code",
   "execution_count": null,
   "metadata": {
    "ExecuteTime": {
     "start_time": "2021-07-11T00:34:59.048Z"
    },
    "scrolled": false
   },
   "outputs": [
    {
     "name": "stderr",
     "output_type": "stream",
     "text": [
      "INFO:     Started server process [20156]\n",
      "INFO:     Waiting for application startup.\n",
      "INFO:     Application startup complete.\n",
      "INFO:uvicorn.error:Application startup complete.\n",
      "INFO:     Uvicorn running on http://0.0.0.0:13526 (Press CTRL+C to quit)\n",
      "INFO:uvicorn.error:Uvicorn running on http://0.0.0.0:13526 (Press CTRL+C to quit)\n"
     ]
    },
    {
     "name": "stdout",
     "output_type": "stream",
     "text": [
      "INFO:     140.122.20.173:0 - \"POST /api/webchat/generate_response HTTP/1.0\" 200 OK\n",
      "INFO:     140.122.20.173:0 - \"POST /api/webchat/generate_response HTTP/1.0\" 200 OK\n",
      "INFO:     140.122.20.173:0 - \"POST /api/webchat/generate_response HTTP/1.0\" 200 OK\n",
      "INFO:     140.122.20.173:0 - \"POST /api/webchat/generate_response HTTP/1.0\" 200 OK\n",
      "INFO:     140.122.20.173:0 - \"POST /api/webchat/generate_response HTTP/1.0\" 200 OK\n",
      "INFO:     140.122.20.173:0 - \"POST /api/webchat/generate_response HTTP/1.0\" 200 OK\n",
      "INFO:     140.122.20.173:0 - \"POST /api/webchat/generate_response HTTP/1.0\" 200 OK\n",
      "INFO:     140.122.20.173:0 - \"POST /api/webchat/generate_response HTTP/1.0\" 200 OK\n",
      "INFO:     140.122.20.173:0 - \"POST /api/webchat/generate_response HTTP/1.0\" 200 OK\n",
      "INFO:     140.122.20.173:0 - \"POST /api/webchat/generate_response HTTP/1.0\" 200 OK\n",
      "INFO:     140.122.20.173:0 - \"POST /api/webchat/generate_response HTTP/1.0\" 200 OK\n",
      "INFO:     140.122.20.173:0 - \"POST /api/webchat/generate_response HTTP/1.0\" 200 OK\n",
      "INFO:     140.122.20.173:0 - \"POST /api/webchat/generate_response HTTP/1.0\" 200 OK\n",
      "INFO:     140.122.20.173:0 - \"POST /api/webchat/generate_response HTTP/1.0\" 200 OK\n",
      "INFO:     140.122.20.173:0 - \"POST /api/webchat/generate_response HTTP/1.0\" 200 OK\n",
      "INFO:     140.122.20.173:0 - \"OPTIONS /api/webchat/generate_response HTTP/1.0\" 200 OK\n",
      "INFO:     140.122.20.173:0 - \"OPTIONS /api/webchat/generate_response HTTP/1.0\" 200 OK\n",
      "INFO:     140.122.20.173:0 - \"OPTIONS /api/webchat/generate_response HTTP/1.0\" 200 OK\n",
      "INFO:     140.122.20.173:0 - \"OPTIONS /api/webchat/generate_response HTTP/1.0\" 200 OK\n",
      "INFO:     140.122.20.173:0 - \"OPTIONS /api/webchat/generate_response HTTP/1.0\" 200 OK\n",
      "INFO:     140.122.20.173:0 - \"POST /api/webchat/generate_response HTTP/1.0\" 200 OK\n",
      "INFO:     140.122.20.173:0 - \"POST /api/webchat/generate_response HTTP/1.0\" 200 OK\n",
      "INFO:     140.122.20.173:0 - \"POST /api/webchat/generate_response HTTP/1.0\" 200 OK\n",
      "INFO:     140.122.20.173:0 - \"POST /api/webchat/generate_response HTTP/1.0\" 200 OK\n",
      "INFO:     140.122.20.173:0 - \"POST /api/webchat/generate_response HTTP/1.0\" 200 OK\n",
      "INFO:     140.122.20.173:0 - \"OPTIONS /api/webchat/generate_response HTTP/1.0\" 200 OK\n",
      "INFO:     140.122.20.173:0 - \"OPTIONS /api/webchat/generate_response HTTP/1.0\" 200 OK\n",
      "INFO:     140.122.20.173:0 - \"OPTIONS /api/webchat/generate_response HTTP/1.0\" 200 OK\n",
      "INFO:     140.122.20.173:0 - \"OPTIONS /api/webchat/generate_response HTTP/1.0\" 200 OK\n",
      "INFO:     140.122.20.173:0 - \"OPTIONS /api/webchat/generate_response HTTP/1.0\" 200 OK\n",
      "INFO:     140.122.20.173:0 - \"OPTIONS /api/webchat/generate_response HTTP/1.0\" 200 OK\n",
      "INFO:     140.122.20.173:0 - \"OPTIONS /api/webchat/generate_response HTTP/1.0\" 200 OK\n",
      "INFO:     140.122.20.173:0 - \"OPTIONS /api/webchat/generate_response HTTP/1.0\" 200 OK\n",
      "INFO:     140.122.20.173:0 - \"OPTIONS /api/webchat/generate_response HTTP/1.0\" 200 OK\n",
      "INFO:     140.122.20.173:0 - \"OPTIONS /api/webchat/generate_response HTTP/1.0\" 200 OK\n",
      "INFO:     140.122.20.173:0 - \"POST /api/webchat/generate_response HTTP/1.0\" 200 OK\n",
      "INFO:     140.122.20.173:0 - \"POST /api/webchat/generate_response HTTP/1.0\" 200 OK\n",
      "INFO:     140.122.20.173:0 - \"POST /api/webchat/generate_response HTTP/1.0\" 200 OK\n",
      "INFO:     140.122.20.173:0 - \"POST /api/webchat/generate_response HTTP/1.0\" 200 OK\n",
      "INFO:     140.122.20.173:0 - \"POST /api/webchat/generate_response HTTP/1.0\" 200 OK\n",
      "INFO:     140.122.20.173:0 - \"POST /api/webchat/generate_response HTTP/1.0\" 200 OK\n",
      "INFO:     140.122.20.173:0 - \"POST /api/webchat/generate_response HTTP/1.0\" 200 OK\n",
      "INFO:     140.122.20.173:0 - \"POST /api/webchat/generate_response HTTP/1.0\" 200 OK\n",
      "INFO:     140.122.20.173:0 - \"POST /api/webchat/generate_response HTTP/1.0\" 200 OK\n",
      "INFO:     140.122.20.173:0 - \"POST /api/webchat/generate_response HTTP/1.0\" 200 OK\n",
      "INFO:     140.122.20.173:0 - \"OPTIONS /api/webchat/generate_response HTTP/1.0\" 200 OK\n",
      "INFO:     140.122.20.173:0 - \"OPTIONS /api/webchat/generate_response HTTP/1.0\" 200 OK\n",
      "INFO:     140.122.20.173:0 - \"OPTIONS /api/webchat/generate_response HTTP/1.0\" 200 OK\n",
      "INFO:     140.122.20.173:0 - \"OPTIONS /api/webchat/generate_response HTTP/1.0\" 200 OK\n",
      "INFO:     140.122.20.173:0 - \"OPTIONS /api/webchat/generate_response HTTP/1.0\" 200 OK\n",
      "INFO:     140.122.20.173:0 - \"POST /api/webchat/generate_response HTTP/1.0\" 200 OK\n",
      "INFO:     140.122.20.173:0 - \"POST /api/webchat/generate_response HTTP/1.0\" 200 OK\n",
      "INFO:     140.122.20.173:0 - \"POST /api/webchat/generate_response HTTP/1.0\" 200 OK\n",
      "INFO:     140.122.20.173:0 - \"POST /api/webchat/generate_response HTTP/1.0\" 200 OK\n",
      "INFO:     140.122.20.173:0 - \"POST /api/webchat/generate_response HTTP/1.0\" 200 OK\n",
      "INFO:     140.122.20.173:0 - \"OPTIONS /api/webchat/generate_response HTTP/1.0\" 200 OK\n",
      "INFO:     140.122.20.173:0 - \"OPTIONS /api/webchat/generate_response HTTP/1.0\" 200 OK\n",
      "INFO:     140.122.20.173:0 - \"OPTIONS /api/webchat/generate_response HTTP/1.0\" 200 OK\n",
      "INFO:     140.122.20.173:0 - \"OPTIONS /api/webchat/generate_response HTTP/1.0\" 200 OK\n",
      "INFO:     140.122.20.173:0 - \"OPTIONS /api/webchat/generate_response HTTP/1.0\" 200 OK\n",
      "INFO:     140.122.20.173:0 - \"POST /api/webchat/generate_response HTTP/1.0\" 200 OK\n",
      "INFO:     140.122.20.173:0 - \"POST /api/webchat/generate_response HTTP/1.0\" 200 OK\n",
      "INFO:     140.122.20.173:0 - \"POST /api/webchat/generate_response HTTP/1.0\" 200 OK\n",
      "INFO:     140.122.20.173:0 - \"POST /api/webchat/generate_response HTTP/1.0\" 200 OK\n",
      "INFO:     140.122.20.173:0 - \"POST /api/webchat/generate_response HTTP/1.0\" 200 OK\n",
      "INFO:     140.122.20.173:0 - \"OPTIONS /api/webchat/generate_response HTTP/1.0\" 200 OK\n",
      "INFO:     140.122.20.173:0 - \"OPTIONS /api/webchat/generate_response HTTP/1.0\" 200 OK\n",
      "INFO:     140.122.20.173:0 - \"OPTIONS /api/webchat/generate_response HTTP/1.0\" 200 OK\n",
      "INFO:     140.122.20.173:0 - \"OPTIONS /api/webchat/generate_response HTTP/1.0\" 200 OK\n",
      "INFO:     140.122.20.173:0 - \"OPTIONS /api/webchat/generate_response HTTP/1.0\" 200 OK\n",
      "INFO:     140.122.20.173:0 - \"POST /api/webchat/generate_response HTTP/1.0\" 200 OK\n",
      "INFO:     140.122.20.173:0 - \"POST /api/webchat/generate_response HTTP/1.0\" 200 OK\n",
      "INFO:     140.122.20.173:0 - \"POST /api/webchat/generate_response HTTP/1.0\" 200 OK\n",
      "INFO:     140.122.20.173:0 - \"POST /api/webchat/generate_response HTTP/1.0\" 200 OK\n",
      "INFO:     140.122.20.173:0 - \"POST /api/webchat/generate_response HTTP/1.0\" 200 OK\n",
      "INFO:     140.122.20.173:0 - \"OPTIONS /api/webchat/generate_response HTTP/1.0\" 200 OK\n",
      "INFO:     140.122.20.173:0 - \"OPTIONS /api/webchat/generate_response HTTP/1.0\" 200 OK\n",
      "INFO:     140.122.20.173:0 - \"OPTIONS /api/webchat/generate_response HTTP/1.0\" 200 OK\n",
      "INFO:     140.122.20.173:0 - \"OPTIONS /api/webchat/generate_response HTTP/1.0\" 200 OK\n",
      "INFO:     140.122.20.173:0 - \"OPTIONS /api/webchat/generate_response HTTP/1.0\" 200 OK\n",
      "INFO:     140.122.20.173:0 - \"POST /api/webchat/generate_response HTTP/1.0\" 200 OK\n",
      "INFO:     140.122.20.173:0 - \"POST /api/webchat/generate_response HTTP/1.0\" 200 OK\n",
      "INFO:     140.122.20.173:0 - \"POST /api/webchat/generate_response HTTP/1.0\" 200 OK\n",
      "INFO:     140.122.20.173:0 - \"POST /api/webchat/generate_response HTTP/1.0\" 200 OK\n",
      "INFO:     140.122.20.173:0 - \"POST /api/webchat/generate_response HTTP/1.0\" 200 OK\n",
      "INFO:     36.228.96.148:0 - \"GET /api/webchat/get/avaliable_bot?user_email=pricean02@gmail.com HTTP/1.0\" 200 OK\n",
      "INFO:     36.228.96.148:0 - \"GET /api/webchat/get/avaliable_bot?user_email=pricean02@gmail.com HTTP/1.0\" 200 OK\n",
      "INFO:     36.228.96.148:0 - \"OPTIONS /api/webchat/generate_response HTTP/1.0\" 200 OK\n",
      "INFO:     36.228.96.148:0 - \"OPTIONS /api/webchat/generate_response HTTP/1.0\" 200 OK\n",
      "INFO:     36.228.96.148:0 - \"OPTIONS /api/webchat/generate_response HTTP/1.0\" 200 OK\n",
      "INFO:     36.228.96.148:0 - \"OPTIONS /api/webchat/generate_response HTTP/1.0\" 200 OK\n",
      "INFO:     36.228.96.148:0 - \"OPTIONS /api/webchat/generate_response HTTP/1.0\" 200 OK\n",
      "INFO:     36.228.96.148:0 - \"POST /api/webchat/generate_response HTTP/1.0\" 200 OK\n",
      "INFO:     36.228.96.148:0 - \"POST /api/webchat/generate_response HTTP/1.0\" 200 OK\n",
      "INFO:     36.228.96.148:0 - \"POST /api/webchat/generate_response HTTP/1.0\" 200 OK\n",
      "INFO:     36.228.96.148:0 - \"POST /api/webchat/generate_response HTTP/1.0\" 200 OK\n",
      "INFO:     36.228.96.148:0 - \"POST /api/webchat/generate_response HTTP/1.0\" 200 OK\n"
     ]
    },
    {
     "name": "stdout",
     "output_type": "stream",
     "text": [
      "INFO:     140.122.56.122:0 - \"GET /api/webchat/get/avaliable_bot?user_email=star3067811@gmail.com HTTP/1.0\" 200 OK\n",
      "INFO:     140.122.56.122:0 - \"GET /api/webchat/get/avaliable_bot?user_email=star3067811@gmail.com HTTP/1.0\" 200 OK\n",
      "INFO:     140.122.56.122:0 - \"POST /api/webchat/generate_response HTTP/1.0\" 200 OK\n",
      "INFO:     140.122.56.122:0 - \"POST /api/webchat/generate_response HTTP/1.0\" 200 OK\n",
      "INFO:     140.122.56.122:0 - \"POST /api/webchat/generate_response HTTP/1.0\" 200 OK\n",
      "INFO:     140.122.56.122:0 - \"POST /api/webchat/generate_response HTTP/1.0\" 200 OK\n",
      "INFO:     140.122.56.122:0 - \"POST /api/webchat/generate_response HTTP/1.0\" 200 OK\n",
      "INFO:     140.122.56.122:0 - \"GET /api/webchat/get/avaliable_bot?user_email=star3067811@gmail.com HTTP/1.0\" 200 OK\n",
      "INFO:     140.122.56.122:0 - \"POST /api/webchat/generate_response HTTP/1.0\" 200 OK\n",
      "INFO:     140.122.56.122:0 - \"POST /api/webchat/generate_response HTTP/1.0\" 200 OK\n",
      "INFO:     140.122.56.122:0 - \"POST /api/webchat/generate_response HTTP/1.0\" 200 OK\n",
      "INFO:     140.122.56.122:0 - \"POST /api/webchat/generate_response HTTP/1.0\" 200 OK\n",
      "INFO:     140.122.56.122:0 - \"POST /api/webchat/generate_response HTTP/1.0\" 200 OK\n",
      "INFO:     140.122.56.122:0 - \"GET /api/webchat/get/avaliable_bot?user_email=pricean08@gmail.com HTTP/1.0\" 200 OK\n",
      "INFO:     140.122.56.122:0 - \"GET /api/webchat/get/avaliable_bot?user_email=pricean08@gmail.com HTTP/1.0\" 200 OK\n",
      "INFO:     140.122.56.122:0 - \"POST /api/webchat/generate_response HTTP/1.0\" 200 OK\n",
      "INFO:     140.122.56.122:0 - \"POST /api/webchat/generate_response HTTP/1.0\" 200 OK\n",
      "INFO:     140.122.56.122:0 - \"POST /api/webchat/generate_response HTTP/1.0\" 200 OK\n",
      "INFO:     140.122.56.122:0 - \"POST /api/webchat/generate_response HTTP/1.0\" 200 OK\n",
      "INFO:     140.122.56.122:0 - \"POST /api/webchat/generate_response HTTP/1.0\" 200 OK\n",
      "INFO:     140.122.56.122:0 - \"OPTIONS /api/webchat/generate_response HTTP/1.0\" 200 OK\n",
      "INFO:     140.122.56.122:0 - \"OPTIONS /api/webchat/generate_response HTTP/1.0\" 200 OK\n",
      "INFO:     140.122.56.122:0 - \"OPTIONS /api/webchat/generate_response HTTP/1.0\" 200 OK\n",
      "INFO:     140.122.56.122:0 - \"OPTIONS /api/webchat/generate_response HTTP/1.0\" 200 OK\n",
      "INFO:     140.122.56.122:0 - \"OPTIONS /api/webchat/generate_response HTTP/1.0\" 200 OK\n",
      "INFO:     140.122.56.122:0 - \"OPTIONS /api/webchat/generate_response HTTP/1.0\" 200 OK\n",
      "INFO:     140.122.56.122:0 - \"OPTIONS /api/webchat/generate_response HTTP/1.0\" 200 OK\n",
      "INFO:     140.122.56.122:0 - \"OPTIONS /api/webchat/generate_response HTTP/1.0\" 200 OK\n",
      "INFO:     140.122.56.122:0 - \"OPTIONS /api/webchat/generate_response HTTP/1.0\" 200 OK\n",
      "INFO:     140.122.56.122:0 - \"OPTIONS /api/webchat/generate_response HTTP/1.0\" 200 OK\n",
      "INFO:     140.122.56.122:0 - \"POST /api/webchat/generate_response HTTP/1.0\" 200 OK\n",
      "INFO:     140.122.56.122:0 - \"POST /api/webchat/generate_response HTTP/1.0\" 200 OK\n",
      "INFO:     140.122.56.122:0 - \"POST /api/webchat/generate_response HTTP/1.0\" 200 OK\n",
      "INFO:     140.122.56.122:0 - \"POST /api/webchat/generate_response HTTP/1.0\" 200 OK\n",
      "INFO:     140.122.56.122:0 - \"POST /api/webchat/generate_response HTTP/1.0\" 200 OK\n",
      "INFO:     140.122.56.122:0 - \"OPTIONS /api/webchat/generate_response HTTP/1.0\" 200 OK\n",
      "INFO:     140.122.56.122:0 - \"OPTIONS /api/webchat/generate_response HTTP/1.0\" 200 OK\n",
      "INFO:     140.122.56.122:0 - \"OPTIONS /api/webchat/generate_response HTTP/1.0\" 200 OK\n",
      "INFO:     140.122.56.122:0 - \"OPTIONS /api/webchat/generate_response HTTP/1.0\" 200 OK\n",
      "INFO:     140.122.56.122:0 - \"OPTIONS /api/webchat/generate_response HTTP/1.0\" 200 OK\n",
      "INFO:     140.122.56.122:0 - \"POST /api/webchat/generate_response HTTP/1.0\" 200 OK\n",
      "INFO:     140.122.56.122:0 - \"POST /api/webchat/generate_response HTTP/1.0\" 200 OK\n",
      "INFO:     140.122.56.122:0 - \"POST /api/webchat/generate_response HTTP/1.0\" 200 OK\n",
      "INFO:     140.122.56.122:0 - \"POST /api/webchat/generate_response HTTP/1.0\" 200 OK\n",
      "INFO:     140.122.56.122:0 - \"POST /api/webchat/generate_response HTTP/1.0\" 200 OK\n",
      "INFO:     140.122.56.122:0 - \"OPTIONS /api/webchat/generate_response HTTP/1.0\" 200 OK\n",
      "INFO:     140.122.56.122:0 - \"OPTIONS /api/webchat/generate_response HTTP/1.0\" 200 OK\n",
      "INFO:     140.122.56.122:0 - \"OPTIONS /api/webchat/generate_response HTTP/1.0\" 200 OK\n",
      "INFO:     140.122.56.122:0 - \"OPTIONS /api/webchat/generate_response HTTP/1.0\" 200 OK\n",
      "INFO:     140.122.56.122:0 - \"OPTIONS /api/webchat/generate_response HTTP/1.0\" 200 OK\n",
      "INFO:     140.122.56.122:0 - \"POST /api/webchat/generate_response HTTP/1.0\" 200 OK\n",
      "INFO:     140.122.56.122:0 - \"POST /api/webchat/generate_response HTTP/1.0\" 200 OK\n",
      "INFO:     140.122.56.122:0 - \"POST /api/webchat/generate_response HTTP/1.0\" 200 OK\n",
      "INFO:     140.122.56.122:0 - \"POST /api/webchat/generate_response HTTP/1.0\" 200 OK\n",
      "INFO:     140.122.56.122:0 - \"POST /api/webchat/generate_response HTTP/1.0\" 200 OK\n",
      "INFO:     140.122.56.122:0 - \"OPTIONS /api/webchat/generate_response HTTP/1.0\" 200 OK\n",
      "INFO:     140.122.56.122:0 - \"OPTIONS /api/webchat/generate_response HTTP/1.0\" 200 OK\n",
      "INFO:     140.122.56.122:0 - \"OPTIONS /api/webchat/generate_response HTTP/1.0\" 200 OK\n",
      "INFO:     140.122.56.122:0 - \"OPTIONS /api/webchat/generate_response HTTP/1.0\" 200 OK\n",
      "INFO:     140.122.56.122:0 - \"OPTIONS /api/webchat/generate_response HTTP/1.0\" 200 OK\n",
      "INFO:     140.122.56.122:0 - \"POST /api/webchat/generate_response HTTP/1.0\" 200 OK\n",
      "INFO:     140.122.56.122:0 - \"POST /api/webchat/generate_response HTTP/1.0\" 200 OK\n",
      "INFO:     140.122.56.122:0 - \"POST /api/webchat/generate_response HTTP/1.0\" 200 OK\n",
      "INFO:     140.122.56.122:0 - \"POST /api/webchat/generate_response HTTP/1.0\" 200 OK\n",
      "INFO:     140.122.56.122:0 - \"POST /api/webchat/generate_response HTTP/1.0\" 200 OK\n",
      "INFO:     140.122.56.122:0 - \"OPTIONS /api/webchat/generate_response HTTP/1.0\" 200 OK\n",
      "INFO:     140.122.56.122:0 - \"OPTIONS /api/webchat/generate_response HTTP/1.0\" 200 OK\n",
      "INFO:     140.122.56.122:0 - \"OPTIONS /api/webchat/generate_response HTTP/1.0\" 200 OK\n",
      "INFO:     140.122.56.122:0 - \"OPTIONS /api/webchat/generate_response HTTP/1.0\" 200 OK\n",
      "INFO:     140.122.56.122:0 - \"OPTIONS /api/webchat/generate_response HTTP/1.0\" 200 OK\n",
      "INFO:     140.122.56.122:0 - \"POST /api/webchat/generate_response HTTP/1.0\" 200 OK\n",
      "INFO:     140.122.56.122:0 - \"POST /api/webchat/generate_response HTTP/1.0\" 200 OK\n",
      "INFO:     140.122.56.122:0 - \"POST /api/webchat/generate_response HTTP/1.0\" 200 OK\n",
      "INFO:     140.122.56.122:0 - \"POST /api/webchat/generate_response HTTP/1.0\" 200 OK\n",
      "INFO:     140.122.56.122:0 - \"POST /api/webchat/generate_response HTTP/1.0\" 200 OK\n",
      "INFO:     140.122.56.122:0 - \"OPTIONS /api/webchat/generate_response HTTP/1.0\" 200 OK\n",
      "INFO:     140.122.56.122:0 - \"OPTIONS /api/webchat/generate_response HTTP/1.0\" 200 OK\n",
      "INFO:     140.122.56.122:0 - \"OPTIONS /api/webchat/generate_response HTTP/1.0\" 200 OK\n",
      "INFO:     140.122.56.122:0 - \"OPTIONS /api/webchat/generate_response HTTP/1.0\" 200 OK\n",
      "INFO:     140.122.56.122:0 - \"OPTIONS /api/webchat/generate_response HTTP/1.0\" 200 OK\n",
      "INFO:     140.122.56.122:0 - \"POST /api/webchat/generate_response HTTP/1.0\" 200 OK\n",
      "INFO:     140.122.56.122:0 - \"POST /api/webchat/generate_response HTTP/1.0\" 200 OK\n",
      "INFO:     140.122.56.122:0 - \"POST /api/webchat/generate_response HTTP/1.0\" 200 OK\n",
      "INFO:     140.122.56.122:0 - \"POST /api/webchat/generate_response HTTP/1.0\" 200 OK\n",
      "INFO:     140.122.56.122:0 - \"POST /api/webchat/generate_response HTTP/1.0\" 200 OK\n",
      "INFO:     140.122.56.122:0 - \"GET /api/webchat/get/avaliable_bot?user_email=pricean08@gmail.com HTTP/1.0\" 200 OK\n",
      "INFO:     140.122.56.122:0 - \"POST /api/webchat/generate_response HTTP/1.0\" 200 OK\n",
      "INFO:     140.122.56.122:0 - \"POST /api/webchat/generate_response HTTP/1.0\" 200 OK\n",
      "INFO:     140.122.56.122:0 - \"POST /api/webchat/generate_response HTTP/1.0\" 200 OK\n",
      "INFO:     140.122.56.122:0 - \"POST /api/webchat/generate_response HTTP/1.0\" 200 OK\n",
      "INFO:     140.122.56.122:0 - \"POST /api/webchat/generate_response HTTP/1.0\" 200 OK\n",
      "INFO:     140.122.56.122:0 - \"GET /api/webchat/get/avaliable_bot?user_email=pricean08@gmail.com HTTP/1.0\" 200 OK\n",
      "INFO:     140.122.56.122:0 - \"GET /api/webchat/get/avaliable_bot?user_email=pricean08@gmail.com HTTP/1.0\" 200 OK\n",
      "INFO:     140.122.56.122:0 - \"GET /api/webchat/get/avaliable_bot?user_email=pricean08@gmail.com HTTP/1.0\" 200 OK\n",
      "INFO:     140.122.56.122:0 - \"GET /api/webchat/get/avaliable_bot?user_email=pricean08@gmail.com HTTP/1.0\" 200 OK\n"
     ]
    },
    {
     "name": "stdout",
     "output_type": "stream",
     "text": [
      "INFO:     140.122.56.122:0 - \"GET /api/webchat/get/avaliable_bot?user_email=pricean08@gmail.com HTTP/1.0\" 200 OK\n",
      "INFO:     140.122.56.122:0 - \"POST /api/webchat/generate_response HTTP/1.0\" 200 OK\n",
      "INFO:     140.122.56.122:0 - \"POST /api/webchat/generate_response HTTP/1.0\" 200 OK\n",
      "INFO:     140.122.56.122:0 - \"POST /api/webchat/generate_response HTTP/1.0\" 200 OK\n",
      "INFO:     140.122.56.122:0 - \"POST /api/webchat/generate_response HTTP/1.0\" 200 OK\n",
      "INFO:     140.122.56.122:0 - \"POST /api/webchat/generate_response HTTP/1.0\" 200 OK\n",
      "INFO:     140.122.56.122:0 - \"GET /api/webchat/get/avaliable_bot?user_email=star3067811@gmail.com HTTP/1.0\" 200 OK\n",
      "INFO:     140.122.56.122:0 - \"OPTIONS /api/webchat/generate_response HTTP/1.0\" 200 OK\n",
      "INFO:     140.122.56.122:0 - \"OPTIONS /api/webchat/generate_response HTTP/1.0\" 200 OK\n",
      "INFO:     140.122.56.122:0 - \"OPTIONS /api/webchat/generate_response HTTP/1.0\" 200 OK\n",
      "INFO:     140.122.56.122:0 - \"OPTIONS /api/webchat/generate_response HTTP/1.0\" 200 OK\n",
      "INFO:     140.122.56.122:0 - \"OPTIONS /api/webchat/generate_response HTTP/1.0\" 200 OK\n",
      "INFO:     140.122.56.122:0 - \"POST /api/webchat/generate_response HTTP/1.0\" 200 OK\n",
      "INFO:     140.122.56.122:0 - \"POST /api/webchat/generate_response HTTP/1.0\" 200 OK\n",
      "INFO:     140.122.56.122:0 - \"POST /api/webchat/generate_response HTTP/1.0\" 200 OK\n",
      "INFO:     140.122.56.122:0 - \"POST /api/webchat/generate_response HTTP/1.0\" 200 OK\n",
      "INFO:     140.122.56.122:0 - \"POST /api/webchat/generate_response HTTP/1.0\" 200 OK\n"
     ]
    }
   ],
   "source": [
    "if __name__ == \"__main__\":\n",
    "    import nest_asyncio\n",
    "    nest_asyncio.apply()\n",
    "    import uvicorn\n",
    "    uvicorn.run(app, host=\"0.0.0.0\", port=API_PORT)"
   ]
  },
  {
   "cell_type": "code",
   "execution_count": null,
   "metadata": {},
   "outputs": [],
   "source": []
  },
  {
   "cell_type": "code",
   "execution_count": null,
   "metadata": {
    "ExecuteTime": {
     "start_time": "2021-07-11T00:34:59.051Z"
    }
   },
   "outputs": [],
   "source": [
    "print(\"讚美神\")"
   ]
  },
  {
   "cell_type": "code",
   "execution_count": null,
   "metadata": {},
   "outputs": [],
   "source": []
  },
  {
   "cell_type": "code",
   "execution_count": null,
   "metadata": {},
   "outputs": [],
   "source": []
  }
 ],
 "metadata": {
  "kernelspec": {
   "display_name": "ser",
   "language": "python",
   "name": "ser"
  },
  "language_info": {
   "codemirror_mode": {
    "name": "ipython",
    "version": 3
   },
   "file_extension": ".py",
   "mimetype": "text/x-python",
   "name": "python",
   "nbconvert_exporter": "python",
   "pygments_lexer": "ipython3",
   "version": "3.8.8"
  }
 },
 "nbformat": 4,
 "nbformat_minor": 4
}
