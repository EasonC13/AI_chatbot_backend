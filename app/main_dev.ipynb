{
 "cells": [
  {
   "cell_type": "code",
   "execution_count": 4,
   "metadata": {},
   "outputs": [],
   "source": [
    "from fastapi import FastAPI\n",
    "from starlette.exceptions import HTTPException\n",
    "from starlette.middleware.cors import CORSMiddleware\n",
    "from starlette.status import HTTP_422_UNPROCESSABLE_ENTITY\n",
    "\n",
    "#from .api.api_v1.api import router as api_router\n",
    "from core.config import ALLOWED_HOSTS, PROJECT_NAME, API_PORT\n",
    "from core.errors import http_422_error_handler, http_error_handler\n",
    "from db.mongodb_connect import close_mongo_connection, connect_to_mongo\n",
    "from db.mongodb import AsyncIOMotorClient, get_database\n",
    "import asyncio"
   ]
  },
  {
   "cell_type": "code",
   "execution_count": 5,
   "metadata": {},
   "outputs": [],
   "source": [
    "app = FastAPI(title=PROJECT_NAME)\n",
    "\n",
    "if not ALLOWED_HOSTS:\n",
    "    ALLOWED_HOSTS = [\"*\"]\n",
    "\n",
    "app.add_middleware(\n",
    "    CORSMiddleware,\n",
    "    allow_origins=ALLOWED_HOSTS,\n",
    "    allow_credentials=True,\n",
    "    allow_methods=[\"*\"],\n",
    "    allow_headers=[\"*\"],\n",
    ")\n",
    "\n",
    "\n",
    "app.add_event_handler(\"startup\", connect_to_mongo)\n",
    "app.add_event_handler(\"shutdown\", close_mongo_connection)\n",
    "\n",
    "app.add_exception_handler(HTTPException, http_error_handler)\n",
    "app.add_exception_handler(HTTP_422_UNPROCESSABLE_ENTITY, http_422_error_handler)"
   ]
  },
  {
   "cell_type": "code",
   "execution_count": 6,
   "metadata": {},
   "outputs": [],
   "source": [
    "\n",
    "#from api.api import router as api_router\n",
    "#app.include_router(api_router)\n"
   ]
  },
  {
   "cell_type": "code",
   "execution_count": null,
   "metadata": {},
   "outputs": [],
   "source": []
  },
  {
   "cell_type": "code",
   "execution_count": 7,
   "metadata": {},
   "outputs": [],
   "source": [
    "from fastapi.responses import HTMLResponse\n",
    "@app.get(\"/\")\n",
    "def home():\n",
    "    with open(f\"{static_file_path}/index.html\") as f:\n",
    "        html = \"\".join(f.readlines())\n",
    "    return HTMLResponse(content=html, status_code= 200)"
   ]
  },
  {
   "cell_type": "code",
   "execution_count": 8,
   "metadata": {},
   "outputs": [],
   "source": [
    "@app.get(\"/index2\")\n",
    "def fun():\n",
    "    with open(\"./static/index2.html\") as f:\n",
    "        html = \"\".join(f.readlines())\n",
    "    return HTMLResponse(content=html, status_code= 200)"
   ]
  },
  {
   "cell_type": "code",
   "execution_count": null,
   "metadata": {},
   "outputs": [],
   "source": []
  },
  {
   "cell_type": "code",
   "execution_count": null,
   "metadata": {},
   "outputs": [],
   "source": []
  },
  {
   "cell_type": "code",
   "execution_count": 9,
   "metadata": {},
   "outputs": [],
   "source": [
    "from telegram import Bot\n",
    "from telegram.error import InvalidToken\n",
    "def get_bot_data_by_token(Token):\n",
    "    try:  \n",
    "        bot = Bot(Token)\n",
    "        result = bot.get_me()\n",
    "        return result.to_dict()\n",
    "    except InvalidToken:\n",
    "        return None"
   ]
  },
  {
   "cell_type": "code",
   "execution_count": 10,
   "metadata": {},
   "outputs": [],
   "source": [
    "from datetime import datetime\n",
    "async def addNewBot(creator, bot_token):\n",
    "    bot_data = get_bot_data_by_token(bot_token)\n",
    "    if bot_data == None:\n",
    "        message = \"Fail, Bot Not Found\"\n",
    "    else:\n",
    "        data = {\n",
    "        \"Token\": bot_token,\n",
    "        \"tg_username\": f\"@{bot_data['username']}\",\n",
    "        \"Creator\": creator,\n",
    "        \"Custom_Response\": [], # S.M.A.R.T\n",
    "        \"is_public\": False,\n",
    "        \"usage_count\": 0,\n",
    "        \"is_reciever\": True,\n",
    "        \"response_bots\": [],\n",
    "        \"last_update\": datetime.now(),\n",
    "        \"create_time\": datetime.now(),\n",
    "        \"report_list\": [],\n",
    "        }\n",
    "        db = await get_database()\n",
    "        col = db[\"AI_Chatbot_Platform\"][\"bots\"]\n",
    "\n",
    "        #確認是不是已經有了\n",
    "        already_have = await col.find_one({\"Token\": bot_token})\n",
    "        if already_have:\n",
    "            message = f\"Fail, already have create by {already_have['Creator']} at {already_have['create_time']}\"\n",
    "        else:\n",
    "            await col.insert_one(data)\n",
    "            message = \"Success, Add Success.\"\n",
    "        return {\"message\": message}"
   ]
  },
  {
   "cell_type": "code",
   "execution_count": 5,
   "metadata": {},
   "outputs": [],
   "source": [
    "from telethon import TelegramClient, events, sync\n",
    "from core.config import TELEGRAM_API_ID, TELEGRAM_API_HASH, Operator_bot_Token\n",
    "import uuid\n",
    "\n",
    "client = TelegramClient('./tmp/download_image', TELEGRAM_API_ID, TELEGRAM_API_HASH)\n",
    "#await client.start()"
   ]
  },
  {
   "cell_type": "code",
   "execution_count": 2,
   "metadata": {},
   "outputs": [
    {
     "data": {
      "text/plain": [
       "<telethon.client.telegramclient.TelegramClient at 0x7f071d09e5e0>"
      ]
     },
     "execution_count": 2,
     "metadata": {},
     "output_type": "execute_result"
    }
   ],
   "source": [
    "await client.start(bot_token=Operator_bot_Token)"
   ]
  },
  {
   "cell_type": "code",
   "execution_count": 11,
   "metadata": {},
   "outputs": [],
   "source": [
    "filename = str(uuid.uuid4())"
   ]
  },
  {
   "cell_type": "code",
   "execution_count": 13,
   "metadata": {},
   "outputs": [
    {
     "data": {
      "text/plain": [
       "'993ca3ca-f0b4-44c6-a330-9c784e47786f'"
      ]
     },
     "execution_count": 13,
     "metadata": {},
     "output_type": "execute_result"
    }
   ],
   "source": []
  },
  {
   "cell_type": "code",
   "execution_count": 3,
   "metadata": {},
   "outputs": [],
   "source": [
    "\n",
    "result = await client.download_profile_photo(\"me\", \"/Photo.png\")"
   ]
  },
  {
   "cell_type": "code",
   "execution_count": null,
   "metadata": {},
   "outputs": [],
   "source": []
  },
  {
   "cell_type": "code",
   "execution_count": null,
   "metadata": {},
   "outputs": [],
   "source": []
  },
  {
   "cell_type": "code",
   "execution_count": 7,
   "metadata": {},
   "outputs": [],
   "source": [
    "static_file_path = \"../front-end/dist\"\n",
    "from fastapi.staticfiles import StaticFiles\n",
    "app.mount(\"/\", StaticFiles(directory=static_file_path), name=\"static\")\n"
   ]
  },
  {
   "cell_type": "code",
   "execution_count": 12,
   "metadata": {},
   "outputs": [
    {
     "name": "stderr",
     "output_type": "stream",
     "text": [
      "INFO:     Started server process [19394]\n",
      "INFO:     Waiting for application startup.\n",
      "INFO:     Application startup complete.\n",
      "INFO:uvicorn.error:Application startup complete.\n",
      "INFO:     Uvicorn running on http://0.0.0.0:13525 (Press CTRL+C to quit)\n",
      "INFO:uvicorn.error:Uvicorn running on http://0.0.0.0:13525 (Press CTRL+C to quit)\n",
      "INFO:     Shutting down\n",
      "INFO:uvicorn.error:Shutting down\n",
      "INFO:     Waiting for application shutdown.\n",
      "INFO:uvicorn.error:Waiting for application shutdown.\n",
      "INFO:     Application shutdown complete.\n",
      "INFO:uvicorn.error:Application shutdown complete.\n",
      "INFO:     Finished server process [19394]\n",
      "INFO:uvicorn.error:Finished server process [19394]\n"
     ]
    }
   ],
   "source": [
    "if __name__ == \"__main__\":\n",
    "    import nest_asyncio\n",
    "    nest_asyncio.apply()\n",
    "    import uvicorn\n",
    "    uvicorn.run(app, host=\"0.0.0.0\", port=API_PORT)"
   ]
  },
  {
   "cell_type": "markdown",
   "metadata": {},
   "source": [
    "@app.post(\"/request_phone_code\", tags=[\"user\"])\n",
    "def request_phone_code():\n",
    "    pass\n",
    "\n",
    "@app.post(\"/help_add_bot\", tags=[\"user\"])\n",
    "def request_phone_code():\n",
    "    pass"
   ]
  },
  {
   "cell_type": "markdown",
   "metadata": {},
   "source": [
    "@app.get(\"/\")\n",
    "def index_page():\n",
    "    pass"
   ]
  },
  {
   "cell_type": "code",
   "execution_count": null,
   "metadata": {},
   "outputs": [],
   "source": []
  },
  {
   "cell_type": "code",
   "execution_count": null,
   "metadata": {},
   "outputs": [],
   "source": []
  },
  {
   "cell_type": "code",
   "execution_count": null,
   "metadata": {},
   "outputs": [],
   "source": []
  },
  {
   "cell_type": "code",
   "execution_count": null,
   "metadata": {},
   "outputs": [],
   "source": []
  },
  {
   "cell_type": "code",
   "execution_count": null,
   "metadata": {},
   "outputs": [],
   "source": []
  }
 ],
 "metadata": {
  "kernelspec": {
   "display_name": "ser",
   "language": "python",
   "name": "ser"
  },
  "language_info": {
   "codemirror_mode": {
    "name": "ipython",
    "version": 3
   },
   "file_extension": ".py",
   "mimetype": "text/x-python",
   "name": "python",
   "nbconvert_exporter": "python",
   "pygments_lexer": "ipython3",
   "version": "3.8.8"
  }
 },
 "nbformat": 4,
 "nbformat_minor": 4
}
