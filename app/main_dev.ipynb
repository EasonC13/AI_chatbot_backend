{
 "cells": [
  {
   "cell_type": "code",
   "execution_count": 1,
   "metadata": {},
   "outputs": [],
   "source": [
    "from fastapi import FastAPI\n",
    "from starlette.exceptions import HTTPException\n",
    "from fastapi.middleware.cors import CORSMiddleware\n",
    "from starlette.status import HTTP_422_UNPROCESSABLE_ENTITY\n",
    "\n",
    "#from .api.api_v1.api import router as api_router\n",
    "from core.config import ALLOWED_HOSTS, PROJECT_NAME, API_PORT, API_V1_STR\n",
    "from core.errors import http_422_error_handler, http_error_handler\n",
    "from db.mongodb_connect import close_mongo_connection, connect_to_mongo\n",
    "from db.mongodb import AsyncIOMotorClient, get_database\n",
    "import asyncio"
   ]
  },
  {
   "cell_type": "code",
   "execution_count": 2,
   "metadata": {},
   "outputs": [],
   "source": [
    "app = FastAPI(title=PROJECT_NAME)\n",
    "\n",
    "if not ALLOWED_HOSTS:\n",
    "    ALLOWED_HOSTS = [\"*\"]\n",
    "\n",
    "app.add_middleware(\n",
    "    CORSMiddleware,\n",
    "    allow_origins=ALLOWED_HOSTS,\n",
    "    allow_credentials=True,\n",
    "    allow_methods=[\"*\"],\n",
    "    allow_headers=[\"*\"],\n",
    ")\n",
    "\n",
    "\n",
    "app.add_event_handler(\"startup\", connect_to_mongo)\n",
    "app.add_event_handler(\"shutdown\", close_mongo_connection)\n",
    "\n",
    "\n",
    "app.add_exception_handler(HTTPException, http_error_handler)\n",
    "app.add_exception_handler(HTTP_422_UNPROCESSABLE_ENTITY, http_422_error_handler)"
   ]
  },
  {
   "cell_type": "code",
   "execution_count": 3,
   "metadata": {},
   "outputs": [],
   "source": [
    "\n",
    "from api.api_v1.api import router as api_v1_router\n",
    "from api.api_webchat.api import router as api_webchat_router\n",
    "from api.api_developer.api import router as api_developer_router\n",
    "\n",
    "app.include_router(api_v1_router, prefix=API_V1_STR, tags=[\"telegram\"])\n",
    "app.include_router(api_webchat_router, prefix=\"/api/webchat\", tags=[\"webchat\"])\n",
    "app.include_router(api_developer_router, prefix=\"/api/developer\", tags=[\"developer\"])"
   ]
  },
  {
   "cell_type": "code",
   "execution_count": null,
   "metadata": {},
   "outputs": [],
   "source": []
  },
  {
   "cell_type": "code",
   "execution_count": null,
   "metadata": {},
   "outputs": [],
   "source": []
  },
  {
   "cell_type": "code",
   "execution_count": 4,
   "metadata": {},
   "outputs": [],
   "source": [
    "from fastapi.responses import HTMLResponse\n",
    "@app.get(\"/\")\n",
    "def home():\n",
    "    with open(f\"{static_file_path}/index.html\") as f:\n",
    "        html = \"\".join(f.readlines())\n",
    "    return HTMLResponse(content=html, status_code= 200)\n",
    "\n",
    "@app.get(\"/home\")\n",
    "def home():\n",
    "    with open(f\"{static_file_path}/index.html\") as f:\n",
    "        html = \"\".join(f.readlines())\n",
    "    return HTMLResponse(content=html, status_code= 200)"
   ]
  },
  {
   "cell_type": "code",
   "execution_count": 5,
   "metadata": {},
   "outputs": [],
   "source": [
    "@app.get(\"/index2\")\n",
    "def fun():\n",
    "    with open(\"./static/index2.html\") as f:\n",
    "        html = \"\".join(f.readlines())\n",
    "    return HTMLResponse(content=html, status_code= 200)"
   ]
  },
  {
   "cell_type": "code",
   "execution_count": null,
   "metadata": {},
   "outputs": [],
   "source": []
  },
  {
   "cell_type": "code",
   "execution_count": null,
   "metadata": {},
   "outputs": [],
   "source": []
  },
  {
   "cell_type": "code",
   "execution_count": null,
   "metadata": {},
   "outputs": [],
   "source": []
  },
  {
   "cell_type": "code",
   "execution_count": 6,
   "metadata": {},
   "outputs": [],
   "source": [
    "static_file_path = \"../front-end/dist\"\n",
    "from fastapi.staticfiles import StaticFiles\n",
    "app.mount(\"/\", StaticFiles(directory=static_file_path), name=\"static\")\n"
   ]
  },
  {
   "cell_type": "code",
   "execution_count": null,
   "metadata": {
    "scrolled": false
   },
   "outputs": [
    {
     "name": "stderr",
     "output_type": "stream",
     "text": [
      "INFO:     Started server process [29775]\n",
      "INFO:     Waiting for application startup.\n",
      "INFO:     Application startup complete.\n",
      "INFO:uvicorn.error:Application startup complete.\n",
      "INFO:     Uvicorn running on http://0.0.0.0:13525 (Press CTRL+C to quit)\n",
      "INFO:uvicorn.error:Uvicorn running on http://0.0.0.0:13525 (Press CTRL+C to quit)\n"
     ]
    },
    {
     "name": "stdout",
     "output_type": "stream",
     "text": [
      "INFO:     36.228.86.143:0 - \"GET /docs HTTP/1.1\" 200 OK\n",
      "INFO:     36.228.86.143:0 - \"GET /openapi.json HTTP/1.1\" 200 OK\n",
      "INFO:     36.228.86.143:0 - \"GET /service-worker.js HTTP/1.1\" 304 Not Modified\n",
      "INFO:     36.228.86.143:0 - \"GET /api/developer/middle-ware/generate-text?input_text=%E4%BD%A0%E5%A5%BD%5B%E5%96%9C%E6%AD%A1%5D&nsamples=1 HTTP/1.1\" 200 OK\n",
      "INFO:     36.228.86.143:0 - \"GET /api/developer/middle-ware/generate-text?input_text=%E4%BB%8A%E5%A4%A9%E5%A4%A9%E6%B0%A3%E4%B8%8D%E9%8C%AF%E5%96%94%5B%E5%96%9C%E6%AD%A1%5D&nsamples=6 HTTP/1.1\" 200 OK\n"
     ]
    }
   ],
   "source": [
    "if __name__ == \"__main__\":\n",
    "    import nest_asyncio\n",
    "    nest_asyncio.apply()\n",
    "    import uvicorn\n",
    "    uvicorn.run(app, host=\"0.0.0.0\", port=API_PORT)"
   ]
  },
  {
   "cell_type": "code",
   "execution_count": null,
   "metadata": {},
   "outputs": [],
   "source": []
  },
  {
   "cell_type": "code",
   "execution_count": null,
   "metadata": {},
   "outputs": [],
   "source": []
  },
  {
   "cell_type": "markdown",
   "metadata": {},
   "source": [
    "@app.post(\"/request_phone_code\", tags=[\"user\"])\n",
    "def request_phone_code():\n",
    "    pass\n",
    "\n",
    "@app.post(\"/help_add_bot\", tags=[\"user\"])\n",
    "def request_phone_code():\n",
    "    pass"
   ]
  },
  {
   "cell_type": "markdown",
   "metadata": {},
   "source": [
    "@app.get(\"/\")\n",
    "def index_page():\n",
    "    pass"
   ]
  },
  {
   "cell_type": "code",
   "execution_count": null,
   "metadata": {},
   "outputs": [],
   "source": []
  },
  {
   "cell_type": "code",
   "execution_count": null,
   "metadata": {},
   "outputs": [],
   "source": [
    "print(\"讚美主\")"
   ]
  }
 ],
 "metadata": {
  "kernelspec": {
   "display_name": "ser",
   "language": "python",
   "name": "ser"
  },
  "language_info": {
   "codemirror_mode": {
    "name": "ipython",
    "version": 3
   },
   "file_extension": ".py",
   "mimetype": "text/x-python",
   "name": "python",
   "nbconvert_exporter": "python",
   "pygments_lexer": "ipython3",
   "version": "3.8.8"
  }
 },
 "nbformat": 4,
 "nbformat_minor": 4
}
